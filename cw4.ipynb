{
 "cells": [
  {
   "cell_type": "code",
   "execution_count": 1,
   "metadata": {
    "collapsed": false
   },
   "outputs": [],
   "source": [
    "import numpy as np\n",
    "import matplotlib.pyplot as plt\n",
    "import sequence_limits as sql\n"
   ]
  },
  {
   "cell_type": "markdown",
   "metadata": {},
   "source": [
    "# Classwork 4\n",
    "## Saktill\n",
    "### October 1, 2016\n"
   ]
  },
  {
   "cell_type": "markdown",
   "metadata": {},
   "source": [
    "## Exercise A.1: Determine the limit of a sequence\n",
    "\n",
    "**a)**Write a python function for computing and returning the sequence\n",
    "$$ a_n = \\frac{(7+1)/(n+1)}{(3-1)/(n+1)^2}, n = 0,2,4......N $$\n",
    "\n",
    "Write out the sequence for $N = 100$. Find the exact limit as $N → ∞$\n",
    "and compare with $a_N$ ."
   ]
  },
  {
   "cell_type": "markdown",
   "metadata": {},
   "source": [
    "**b)** Write a Python function limit(seq) that takes a sequence of numbers\n",
    "as input, stored in a list or array seq, and returns the limit of the sequence,\n",
    "if it exists, otherwise None is returned. Test the limit function on the\n",
    "sequence in a) and on the divergent sequence $b_n = n$.\n",
    "\n",
    "**Hint.** One possible quite strict test for determining if a sequence $(a_n)_{n=0}^{N}$\n",
    "has a limit is to check\n",
    "$$|a_n| − |a_{n+1}| < |a_{n−1}| − |a_n|,\n",
    " n = 1, . . . , N − 1$$"
   ]
  },
  {
   "cell_type": "markdown",
   "metadata": {},
   "source": [
    "**c)** Write a Python function for computing and returning the sequence\n",
    "$$D_n = \\frac{sin(2^{−n})}{2^{−n}} , n = 0, . . . , N .$$\n",
    "Call limit from b) to determine the limit of the sequence (for a sufficiently\n",
    "large N)."
   ]
  },
  {
   "cell_type": "markdown",
   "metadata": {},
   "source": [
    "**d)** Given the sequence $$D_n = \\frac{f(x + h) − f(x)}{h} , h = 2^{−n},$$ make a function D(f, x, N) that takes a function $f(x)$, a value $x$, and\n",
    "the number N of terms in the sequence as arguments, and returns the\n",
    "sequence $D_n$ for $n = 0, 1, . . . , N$. Make a call to the D function with\n",
    "$f(x) = sin x, x = 0$, and $N = 80$. Find the limit with aid of the limit\n",
    "function above. Plot the evolution of the computed Dn values, using\n",
    "small circles for the data points.\n"
   ]
  },
  {
   "cell_type": "markdown",
   "metadata": {
    "collapsed": true
   },
   "source": [
    "**e)** Make another call to D where $x = π$, let the limit function analyze\n",
    "the sequence, and plot this sequence in a separate figure. What would\n",
    "be your expected limit?"
   ]
  },
  {
   "cell_type": "markdown",
   "metadata": {},
   "source": [
    "**f)** Explain why the computations for $x = π$ go wrong for large $N$.\n",
    "**Hint.** Print out the numerator and denominator in Dn."
   ]
  },
  {
   "cell_type": "markdown",
   "metadata": {},
   "source": [
    "## Exercise A.2: Compute $\\pi$ via sequences\n",
    "The following sequences all converge to $\\pi$"
   ]
  },
  {
   "cell_type": "markdown",
   "metadata": {},
   "source": [
    "$$(a_n)_{n=1}^{∞}, a_n = 4 \\sum_{k=1}^{n}\\frac{(−1)^{k+1}}{2k − 1} ,$$\n",
    "$$(b_n))_{n=1}^{∞},b_n = \\left(6\\sum_{k=1}^{n}k^{-2}\\right)^{1/2},$$\n",
    "$$(c_n))_{n=1}^{∞},c_n = \\left(90\\sum_{k=1}^{n}k^{-4}\\right)^{1/4},$$\n",
    "$$(d_n)_{n=1}^{∞}, d_n = \\frac{6}{\\sqrt{3}}\\sum_{k=1}^{n}\\frac{(−1)^{k}}{3^k(2k+1)} ,$$\n",
    "$$(e_n)_{n=1}^{∞}, e_n = 16\\sum_{k=1}^{n}\\frac{(−1)^{k}}{5^{2k+1}(2k+1)} - 4 \\sum_{k=1}^{n}\\frac{(−1)^{k}}{239^{2k+1}(2k+1)} ,$$\n",
    "\n",
    "Make a function for each sequence that returns an array with the elements\n",
    "in the sequence. Plot all the sequences, and find the one that converges\n",
    "fastest toward the limit $π$."
   ]
  },
  {
   "cell_type": "markdown",
   "metadata": {},
   "source": [
    "## Exercise A.12: Make difference equations for the Midpoint\n",
    "\n",
    "Use the ideas of Section A.1.7 to make a similar system of difference\n",
    "equations and corresponding implementation for the Midpoint integration\n",
    "rule:\n",
    "$$ \\int_{a}^{b}f(x)dx ≈ h \\sum_{i=0}^{n}f(a − \\frac{1}{2}h + ih), $$\n",
    "\n",
    "where $h = (b − a)/n$ and n counts the number of function evaluations\n",
    "(i.e., rectangles that approximate the area under the curve)."
   ]
  },
  {
   "cell_type": "code",
   "execution_count": null,
   "metadata": {
    "collapsed": true
   },
   "outputs": [],
   "source": []
  }
 ],
 "metadata": {
  "kernelspec": {
   "display_name": "Python 2 (SageMath)",
   "language": "python",
   "name": "python2"
  },
  "language_info": {
   "codemirror_mode": {
    "name": "ipython",
    "version": 2
   },
   "file_extension": ".py",
   "mimetype": "text/x-python",
   "name": "python",
   "nbconvert_exporter": "python",
   "pygments_lexer": "ipython2",
   "version": "2.7.10"
  }
 },
 "nbformat": 4,
 "nbformat_minor": 0
}
