{
 "cells": [
  {
   "cell_type": "code",
   "execution_count": 1,
   "metadata": {
    "collapsed": false
   },
   "outputs": [],
   "source": [
    "import numpy as np\n",
    "import matplotlib.pyplot as plt\n",
    "import sequence_limits as sql\n",
    "import pi_sequences as pl\n",
    "import diffeq_midpoint as dm"
   ]
  },
  {
   "cell_type": "markdown",
   "metadata": {},
   "source": [
    "# Classwork 4\n",
    "## Saktill\n",
    "### October 1, 2016\n"
   ]
  },
  {
   "cell_type": "markdown",
   "metadata": {},
   "source": [
    "## Exercise A.1: Determine the limit of a sequence\n",
    "\n",
    "**a)**Write a python function for computing and returning the sequence\n",
    "$$ a_n = \\frac{(7+1)/(n+1)}{(3-1)/(n+1)^2}, n = 0,2,4......N $$\n",
    "\n",
    "Write out the sequence for $N = 100$. Find the exact limit as $N → ∞$\n",
    "and compare with $a_N$ ."
   ]
  },
  {
   "cell_type": "code",
   "execution_count": 2,
   "metadata": {
    "collapsed": false
   },
   "outputs": [
    {
     "data": {
      "text/plain": [
       "array([ 4.        ,  2.53846154,  2.43243243,  2.39726027,  2.38016529,\n",
       "        2.37016575,  2.36363636,  2.35905045,  2.3556582 ,  2.35304991,\n",
       "        2.35098336,  2.34930643,  2.34791889,  2.34675206,  2.34575734,\n",
       "        2.34489938,  2.34415187,  2.34349483,  2.34291281,  2.34239369,\n",
       "        2.34192781,  2.34150739,  2.34112611,  2.34077875,  2.34046098,\n",
       "        2.34016919,  2.33990031,  2.33965175,  2.3394213 ,  2.33920705,\n",
       "        2.33900735,  2.33882076,  2.33864605,  2.3384821 ,  2.33832797,\n",
       "        2.33818278,  2.33804579,  2.33791632,  2.33779377,  2.3376776 ,\n",
       "        2.33756732,  2.3374625 ,  2.33736274,  2.33726768,  2.33717701,\n",
       "        2.33709041,  2.33700763,  2.33692842,  2.33685255,  2.33677981,\n",
       "        2.33671002])"
      ]
     },
     "execution_count": 2,
     "metadata": {},
     "output_type": "execute_result"
    }
   ],
   "source": [
    "#When N goes to infinity the exact limit will be 7/3 or 2.33333333. Now comparing to the limit as N=100\n",
    "sql.sequence_a_n(100)"
   ]
  },
  {
   "cell_type": "markdown",
   "metadata": {},
   "source": [
    "As we can see the values in the array start to converge toward the exact limit when $N\\rightarrow ∞$"
   ]
  },
  {
   "cell_type": "markdown",
   "metadata": {},
   "source": [
    "**b)** Write a Python function limit(seq) that takes a sequence of numbers\n",
    "as input, stored in a list or array seq, and returns the limit of the sequence,\n",
    "if it exists, otherwise None is returned. Test the limit function on the\n",
    "sequence in a) and on the divergent sequence $b_n = n$.\n",
    "\n",
    "**Hint.** One possible quite strict test for determining if a sequence $(a_n)_{n=0}^{N}$\n",
    "has a limit is to check\n",
    "$$|a_n| − |a_{n+1}| < |a_{n−1}| − |a_n|,\n",
    "n = 1, . . . , N − 1$$"
   ]
  },
  {
   "cell_type": "code",
   "execution_count": 3,
   "metadata": {
    "collapsed": false
   },
   "outputs": [
    {
     "data": {
      "text/plain": [
       "500.0"
      ]
     },
     "execution_count": 3,
     "metadata": {},
     "output_type": "execute_result"
    }
   ],
   "source": [
    "sql.test_limit()"
   ]
  },
  {
   "cell_type": "markdown",
   "metadata": {},
   "source": [
    "The function happens to work for the divergent sequence in this case because we are moving in integer steps in the sequence and "
   ]
  },
  {
   "cell_type": "markdown",
   "metadata": {},
   "source": [
    "**c)** Write a Python function for computing and returning the sequence\n",
    "$$D_n = \\frac{sin(2^{−n})}{2^{−n}} , n = 0, . . . , N .$$\n",
    "Call limit from b) to determine the limit of the sequence (for a sufficiently\n",
    "large N)."
   ]
  },
  {
   "cell_type": "code",
   "execution_count": 4,
   "metadata": {
    "collapsed": false
   },
   "outputs": [
    {
     "data": {
      "text/plain": [
       "1.0"
      ]
     },
     "execution_count": 4,
     "metadata": {},
     "output_type": "execute_result"
    }
   ],
   "source": [
    "a = sql.sequence_D(1000)\n",
    "sql.limit(a)"
   ]
  },
  {
   "cell_type": "markdown",
   "metadata": {},
   "source": [
    "So for sufficiently large values of $N$ the sequence $D_n$ converges to 1."
   ]
  },
  {
   "cell_type": "markdown",
   "metadata": {},
   "source": [
    "**d)** Given the sequence $$E_n = \\frac{f(x + h) − f(x)}{h} , h = 2^{−n},$$ make a function E(f, x, N) that takes a function $f(x)$, a value $x$, and\n",
    "the number N of terms in the sequence as arguments, and returns the\n",
    "sequence $E_n$ for $n = 0, 1, . . . , N$. Make a call to the D function with\n",
    "$f(x) = sin x, x = 0$, and $N = 80$. Find the limit with aid of the limit\n",
    "function above. Plot the evolution of the computed $E_n$ values, using\n",
    "small circles for the data points.\n"
   ]
  },
  {
   "cell_type": "markdown",
   "metadata": {
    "collapsed": true
   },
   "source": [
    "**e)** Make another call to E where $x = π$, let the limit function analyze\n",
    "the sequence, and plot this sequence in a separate figure. What would\n",
    "be your expected limit?\n",
    "\n",
    "I plotted the plots for $x=0$ with blue dots and $x = \\pi$ with red dots in the same plot"
   ]
  },
  {
   "cell_type": "code",
   "execution_count": 5,
   "metadata": {
    "collapsed": false
   },
   "outputs": [
    {
     "name": "stdout",
     "output_type": "stream",
     "text": [
      "[ 0.84147098  0.95885108  0.98961584  0.99739787  0.99934909  0.99983725\n",
      "  0.99995931  0.99998983  0.99999746  0.99999936  0.99999984  0.99999996\n",
      "  0.99999999  1.          1.          1.          1.          1.          1.\n",
      "  1.          1.          1.          1.          1.          1.          1.\n",
      "  1.          1.          1.          1.          1.          1.          1.\n",
      "  1.          1.          1.          1.          1.          1.          1.\n",
      "  1.          1.          1.          1.          1.          1.          1.\n",
      "  1.          1.          1.          1.          1.          1.          1.\n",
      "  1.          1.          1.          1.          1.          1.          1.\n",
      "  1.          1.          1.          1.          1.          1.          1.\n",
      "  1.          1.          1.          1.          1.          1.          1.\n",
      "  1.          1.          1.          1.          1.          1.        ]\n",
      "[-0.84147098 -0.95885108 -0.98961584 -0.99739787 -0.99934909 -0.99983725\n",
      " -0.99995931 -0.99998983 -0.99999746 -0.99999936 -0.99999984 -0.99999996\n",
      " -0.99999999 -1.         -1.         -1.         -1.         -1.         -1.\n",
      " -1.         -1.         -1.         -1.         -1.         -1.         -1.\n",
      " -1.         -1.         -1.         -1.         -1.         -1.         -1.\n",
      " -1.         -1.         -1.         -1.         -1.         -1.         -1.\n",
      " -1.         -1.         -1.         -1.         -1.         -1.         -1.\n",
      " -1.         -1.         -1.         -1.         -1.          0.          0.\n",
      "  0.          0.          0.          0.          0.          0.          0.\n",
      "  0.          0.          0.          0.          0.          0.          0.\n",
      "  0.          0.          0.          0.          0.          0.          0.\n",
      "  0.          0.          0.          0.          0.          0.        ]\n"
     ]
    },
    {
     "data": {
      "image/png": "[encoded data removed]",
      "text/plain": [
       "<matplotlib.figure.Figure at 0x7f25844facd0>"
      ]
     },
     "metadata": {},
     "output_type": "display_data"
    }
   ],
   "source": [
    "sql.main()"
   ]
  },
  {
   "cell_type": "markdown",
   "metadata": {},
   "source": [
    "## Exercise A.2: Compute $\\pi$ via sequences\n",
    "The following sequences all converge to $\\pi$"
   ]
  },
  {
   "cell_type": "markdown",
   "metadata": {},
   "source": [
    "$$(a_n)_{n=1}^{∞}, a_n = 4 \\sum_{k=1}^{n}\\frac{(−1)^{k+1}}{2k − 1} ,$$\n",
    "$$(b_n))_{n=1}^{∞},b_n = \\left(6\\sum_{k=1}^{n}k^{-2}\\right)^{1/2},$$\n",
    "$$(c_n))_{n=1}^{∞},c_n = \\left(90\\sum_{k=1}^{n}k^{-4}\\right)^{1/4},$$\n",
    "$$(d_n)_{n=1}^{∞}, d_n = \\frac{6}{\\sqrt{3}}\\sum_{k=1}^{n}\\frac{(−1)^{k}}{3^k(2k+1)} ,$$\n",
    "$$(e_n)_{n=1}^{∞}, e_n = 16\\sum_{k=1}^{n}\\frac{(−1)^{k}}{5^{2k+1}(2k+1)} - 4 \\sum_{k=1}^{n}\\frac{(−1)^{k}}{239^{2k+1}(2k+1)} ,$$\n",
    "\n",
    "Make a function for each sequence that returns an array with the elements\n",
    "in the sequence. Plot all the sequences, and find the one that converges\n",
    "fastest toward the limit $π$."
   ]
  },
  {
   "cell_type": "markdown",
   "metadata": {},
   "source": [
    "## Solution:\n",
    "I first wrote out each sequence as a purely mathematical function, using a for loop to add each term of the sequence to the total, for a given n. Then I created one function which would take as input: which sequence you wanted, and how many iterations to run. To illustrate the functions, I also created a function which would plot a specific sequence, and a function which would plot all. "
   ]
  },
  {
   "cell_type": "code",
   "execution_count": 6,
   "metadata": {
    "collapsed": false
   },
   "outputs": [
    {
     "data": {
      "image/png": "[encoded data removed]",
      "text/plain": [
       "<matplotlib.figure.Figure at 0x7f2584563f10>"
      ]
     },
     "metadata": {},
     "output_type": "display_data"
    },
    {
     "data": {
      "image/png": "[encoded data removed]",
      "text/plain": [
       "<matplotlib.figure.Figure at 0x7f2584563d10>"
      ]
     },
     "metadata": {},
     "output_type": "display_data"
    }
   ],
   "source": [
    "pl.plotSeq(30,pl.f3)\n",
    "plt.hold('off')\n",
    "pl.plotAll(30)"
   ]
  },
  {
   "cell_type": "markdown",
   "metadata": {},
   "source": [
    "Clearly the last sequence converges to $\\pi$ the quickest (as it had better, for being so convoluted)."
   ]
  },
  {
   "cell_type": "markdown",
   "metadata": {},
   "source": [
    "## Exercise A.12: Make difference equations for the Midpoint\n",
    "\n",
    "Use the ideas of Section A.1.7 to make a similar system of difference\n",
    "equations and corresponding implementation for the Midpoint integration\n",
    "rule:\n",
    "$$ \\int_{a}^{b}f(x)dx ≈ h \\sum_{i=0}^{n}f(a − \\frac{1}{2}h + ih), $$\n",
    "\n",
    "where $h = (b − a)/n$ and n counts the number of function evaluations\n",
    "(i.e., rectangles that approximate the area under the curve)."
   ]
  },
  {
   "cell_type": "markdown",
   "metadata": {
    "collapsed": true
   },
   "source": [
    "## Solution:\n",
    "For the midpoint approximation, I essentially just implemented a version of the original midpoint approximation, but which returned an array instead of just an end value. The result is that instead of just a value for the definite integral, you actually get a set of the integral evaluated nearly continuously along the x-axis. So, for example, the function given in the book, which has no analytic solution:\n",
    "$$\\frac{1}{\\sqrt{2\\pi}}e^{-x^2}$$"
   ]
  },
  {
   "cell_type": "code",
   "execution_count": 7,
   "metadata": {
    "collapsed": false
   },
   "outputs": [
    {
     "data": {
      "image/png": "[encoded data removed]",
      "text/plain": [
       "<matplotlib.figure.Figure at 0x7f2581fcd090>"
      ]
     },
     "metadata": {},
     "output_type": "display_data"
    }
   ],
   "source": [
    "def f(x): return ((1.)/np.pi)*np.exp(-x**2)\n",
    "l = dm.diffMidptInt(f,0,10,100)\n",
    "plt.plot(l[0],l[1])\n",
    "plt.show()"
   ]
  }
 ],
 "metadata": {
  "anaconda-cloud": {},
  "kernelspec": {
   "display_name": "Python 2 (SageMath)",
   "language": "python",
   "name": "python2"
  },
  "language_info": {
   "codemirror_mode": {
    "name": "ipython",
    "version": 2
   },
   "file_extension": ".py",
   "mimetype": "text/x-python",
   "name": "python",
   "nbconvert_exporter": "python",
   "pygments_lexer": "ipython2",
   "version": "2.7.10"
  }
 },
 "nbformat": 4,
 "nbformat_minor": 0
}
